{
  "nbformat": 4,
  "nbformat_minor": 0,
  "metadata": {
    "colab": {
      "name": "teste-robos.ipynb",
      "provenance": [],
      "collapsed_sections": [],
      "include_colab_link": true
    },
    "kernelspec": {
      "name": "python3",
      "display_name": "Python 3"
    }
  },
  "cells": [
    {
      "cell_type": "markdown",
      "metadata": {
        "id": "view-in-github",
        "colab_type": "text"
      },
      "source": [
        "<a href=\"https://colab.research.google.com/github/osvaldosneto/teste_robos/blob/master/teste_robos.ipynb\" target=\"_parent\"><img src=\"https://colab.research.google.com/assets/colab-badge.svg\" alt=\"Open In Colab\"/></a>"
      ]
    },
    {
      "cell_type": "markdown",
      "metadata": {
        "id": "Z5i8BzpTunz8",
        "colab_type": "text"
      },
      "source": [
        "# **Teste de estágio - equipe de robôs**\n",
        "Para garantir a capacidade técnica, de pesquisa e solução de problemas dos candidatos que passam para a próxima etapa, elaboramos este notebook com três exercícios de preenchimento de código (completar métodos ou trechos de código). <br>\n",
        "É importatíssimo o candidato se atentar as dicas e exemplos (quando houver) em cada exercício, nestas células estão a solução de boa parte do problema. <br>\n",
        "Respostas incompletas ou com detalhes faltando também serão avaliados desde que o código funcione sem erro.\n"
      ]
    },
    {
      "cell_type": "markdown",
      "metadata": {
        "id": "jx6UImCW4Zb8",
        "colab_type": "text"
      },
      "source": [
        "## **Exercício 1 - Manipulação de texto**\n",
        "Este exercício consiste em implementar o método **troca_dupla_da_ana** que recebe dois argumentos: frase e nova_pessoa. O método deverá achar ocorrências da dupla de ana na frase e trocar a dupla de ana pelo conteúdo do argumento 'nova_pessoa'. \n",
        "Exemplo:\n",
        "```python\n",
        "frase = 'Ana e Claudia fizeram um trabalho excelente. Após terminarem, Claudia e Ana foram comemorar mas Ana saiu mais cedo'\n",
        "troca_dupla_da_ana(frase, 'Sandra')\n",
        "```\n",
        "O código acima deveria retornar o seguinte texto:<br>\n",
        " [<font color=\"blue\">](https://)Ana e Sandra fizeram um trabalho excelente. Após terminarem, Sandra e Ana foram comemorar mas Ana saiu mais cedo</font>"
      ]
    },
    {
      "cell_type": "markdown",
      "metadata": {
        "id": "DS3Iimbtn6WM",
        "colab_type": "text"
      },
      "source": [
        "<font color=\"green\">**Dicas**</font><br>\n",
        "Para escrever este método pode ser utilizado manipulação de strings com loops ou recursividade. Ou pode ser usado expressões regulares com o método **re.sub** do módulo **re**. Esta última é mais compacta, no entanto exige conecimento básico de expressões regulares e de ler a [documentação do método **re.sub**](https://docs.python.org/3/library/re.html#re.sub). \n",
        "\n",
        "*obs: as duas soluções citadas terão peso igual na avaliação.*\n"
      ]
    },
    {
      "cell_type": "markdown",
      "metadata": {
        "id": "fn3V7RDdtiJb",
        "colab_type": "text"
      },
      "source": [
        "### **Resposta:**"
      ]
    },
    {
      "cell_type": "code",
      "metadata": {
        "id": "3o5U6wZu431x",
        "colab_type": "code",
        "colab": {
          "base_uri": "https://localhost:8080/",
          "height": 37
        },
        "outputId": "53cc823e-d220-426e-f724-097bc679eb8e"
      },
      "source": [
        "import re\n",
        "\n",
        "def troca_dupla_da_ana(frase, nova_pessoa):\n",
        "  vet = frase.split(\" \")\n",
        "  return re.sub(vet[2], nova_pessoa, frase)\n",
        "  \n",
        "frase = 'Ana e Claudia fizeram um trabalho excelente. Após terminarem, Claudia e Ana foram comemorar mas Ana saiu mais cedo'\n",
        "troca_dupla_da_ana(frase, 'Sandra')"
      ],
      "execution_count": 153,
      "outputs": [
        {
          "output_type": "execute_result",
          "data": {
            "application/vnd.google.colaboratory.intrinsic": {
              "type": "string"
            },
            "text/plain": [
              "'Ana e Sandra fizeram um trabalho excelente. Após terminarem, Sandra e Ana foram comemorar mas Ana saiu mais cedo'"
            ]
          },
          "metadata": {
            "tags": []
          },
          "execution_count": 153
        }
      ]
    },
    {
      "cell_type": "markdown",
      "metadata": {
        "id": "QK-_EcL0RUP5",
        "colab_type": "text"
      },
      "source": [
        "## **Exercício 2 - Crawler**\n",
        "Este exercício consiste em implementar o método 'exibe_primeira_imagem' o qual será responsável por exibir a primeira imagem de uma pesquisa do termo fornecido pelo argumento 'termo_de_pesquisa'."
      ]
    },
    {
      "cell_type": "markdown",
      "metadata": {
        "id": "d2kVlnAXzBlV",
        "colab_type": "text"
      },
      "source": [
        "<font color=\"green\">**Dicas**</font><br>\n",
        "1. Um exemplo de url que pesquisa 'pato' no google imagens é: https://www.google.co.in/search?q=pato&source=lnms&tbm=isch\n",
        "2. Para fazer a requisição que acessa o Google Imagens pode ser utilizado a bibliotea **requests**\n",
        "3. Para selecionar o o link da primeira imagem do resultado de pesquisa da página trazida pela biblioteca requests pode ser utilizado a biblioteca **BeautifulSoup**"
      ]
    },
    {
      "cell_type": "markdown",
      "metadata": {
        "id": "FaM95johOAJL",
        "colab_type": "text"
      },
      "source": [
        "**Exemplo de código que exibe uma imagem pela url em um notebook:**"
      ]
    },
    {
      "cell_type": "code",
      "metadata": {
        "id": "sWUBOFIeOHlG",
        "colab_type": "code",
        "colab": {
          "base_uri": "https://localhost:8080/",
          "height": 383
        },
        "outputId": "a102279f-8705-417d-bde9-aeecbba0c9d2"
      },
      "source": [
        "from IPython.display import Image\n",
        "Image(url='https://www.tenhomaisdiscosqueamigos.com/wp-content/uploads/2020/04/the-midnight-gospel.jpg')"
      ],
      "execution_count": null,
      "outputs": [
        {
          "output_type": "execute_result",
          "data": {
            "text/html": [
              "<img src=\"https://www.tenhomaisdiscosqueamigos.com/wp-content/uploads/2020/04/the-midnight-gospel.jpg\"/>"
            ],
            "text/plain": [
              "<IPython.core.display.Image object>"
            ]
          },
          "metadata": {
            "tags": []
          },
          "execution_count": 1
        }
      ]
    },
    {
      "cell_type": "markdown",
      "metadata": {
        "id": "lRF5yn8GttbR",
        "colab_type": "text"
      },
      "source": [
        "### **Resposta:**"
      ]
    },
    {
      "cell_type": "code",
      "metadata": {
        "id": "9lmPKPt5wSih",
        "colab_type": "code",
        "colab": {
          "base_uri": "https://localhost:8080/",
          "height": 161
        },
        "outputId": "631871d4-26e6-4cf2-aeb7-9c8833a91400"
      },
      "source": [
        "import requests\n",
        "from IPython.display import Image\n",
        "from bs4 import BeautifulSoup\n",
        " \n",
        "def exibe_primeira_imagem(termo_de_pesquisa):\n",
        "  url = \"http://www.google.com/search?q=\" + re.sub(\" \", \"+\", termo_de_pesquisa) + \"&source=lnms&tbm=isch\"\n",
        "  soup = BeautifulSoup(requests.get(url).content, 'html.parser')\n",
        "  soup = (soup.find_all('div', class_ = 'RAyV4b')[1].img).get('src')\n",
        "  return Image(url=soup)\n",
        "\n",
        "exibe_primeira_imagem('rick and morty')"
      ],
      "execution_count": 154,
      "outputs": [
        {
          "output_type": "execute_result",
          "data": {
            "text/html": [
              "<img src=\"http://t0.gstatic.com/images?q=tbn:ANd9GcSdT6V6QZ1utkqtT1dmcl_pKKEGF5_pfImXZIN-Ngy3t8GN3g42vufxh_1GmE0&s\"/>"
            ],
            "text/plain": [
              "<IPython.core.display.Image object>"
            ]
          },
          "metadata": {
            "tags": []
          },
          "execution_count": 154
        }
      ]
    },
    {
      "cell_type": "markdown",
      "metadata": {
        "id": "pUDMq-367Rad",
        "colab_type": "text"
      },
      "source": [
        "## **Exercício 3 - Numpy e Álgebra Linear**\n",
        "Este exercício consiste em exibir uma matriz triangular de 250 X 250 com numpy e pyplot que deve ser igual a seguinte imagem:<br>\n",
        "![Image a ser gerada e exibida com pyplot](https://i.ibb.co/CV5MCvP/transposta.png) <br>\n",
        "<b><font color=\"red\">*Atenção: esta imagem é parecida com a imagem gerada pelo código do exemplo duas células abaixo, mas não é a mesma. Observe e atente para a diferença*</span></b>"
      ]
    },
    {
      "cell_type": "markdown",
      "metadata": {
        "id": "cJ3GX-iSRtd0",
        "colab_type": "text"
      },
      "source": [
        "<font color=\"green\">**Dicas**</font><br>\n",
        "Este exercício pode ter 2 soluções para resolver: \n",
        "* A fácil que usa conceitos de transformações de tipos matrizes e os recursos do numpy relacionados ao domínio algebra linear\n",
        "* A difícil que é fazendo um algoritmo que percorre os elementos da matriz do numpy (np.array) e atribui a cada elemento zero ou um. <br>\n",
        "\n",
        "*obs: as duas soluções citadas terão peso igual na avaliação.*\n",
        "\n"
      ]
    },
    {
      "cell_type": "markdown",
      "metadata": {
        "id": "R-ZO3HPfQzap",
        "colab_type": "text"
      },
      "source": [
        "**Exemplo de código que exibe uma imagem semelhante com uma matriz triangular composta de 0s e 1s:**"
      ]
    },
    {
      "cell_type": "code",
      "metadata": {
        "id": "8VvuflEn7XpB",
        "colab_type": "code",
        "colab": {
          "base_uri": "https://localhost:8080/",
          "height": 286
        },
        "outputId": "6d4902b4-1bb1-45f9-bdf4-9da71fb61c65"
      },
      "source": [
        "import numpy as np\n",
        "import matplotlib.pyplot as plt\n",
        "\n",
        "%matplotlib inline\n",
        "matrix = np.zeros((250, 250), dtype=np.uint8) + 1\n",
        "plt.imshow(np.tril(matrix))"
      ],
      "execution_count": null,
      "outputs": [
        {
          "output_type": "execute_result",
          "data": {
            "text/plain": [
              "<matplotlib.image.AxesImage at 0x7f2efb4ac4a8>"
            ]
          },
          "metadata": {
            "tags": []
          },
          "execution_count": 3
        },
        {
          "output_type": "display_data",
          "data": {
            "image/png": "[encoded data removed]",
            "text/plain": [
              "<Figure size 432x288 with 1 Axes>"
            ]
          },
          "metadata": {
            "tags": [],
            "needs_background": "light"
          }
        }
      ]
    },
    {
      "cell_type": "markdown",
      "metadata": {
        "id": "tQ9Q3yXJUrdC",
        "colab_type": "text"
      },
      "source": [
        "### **Resposta:**"
      ]
    },
    {
      "cell_type": "code",
      "metadata": {
        "id": "rIe6zk7MTYJ7",
        "colab_type": "code",
        "colab": {
          "base_uri": "https://localhost:8080/",
          "height": 286
        },
        "outputId": "11013ed4-ae19-4321-a8d6-cec5b4fc742f"
      },
      "source": [
        "import numpy as np\n",
        "import matplotlib.pyplot as plt\n",
        "\n",
        "%matplotlib inline\n",
        "matrix = np.zeros((250, 250), dtype=np.uint8)+1\n",
        "plt.imshow(np.tril(matrix).T)"
      ],
      "execution_count": 155,
      "outputs": [
        {
          "output_type": "execute_result",
          "data": {
            "text/plain": [
              "<matplotlib.image.AxesImage at 0x7f5c19da9ac8>"
            ]
          },
          "metadata": {
            "tags": []
          },
          "execution_count": 155
        },
        {
          "output_type": "display_data",
          "data": {
            "image/png": "[encoded data removed]",
            "text/plain": [
              "<Figure size 432x288 with 1 Axes>"
            ]
          },
          "metadata": {
            "tags": [],
            "needs_background": "light"
          }
        }
      ]
    }
  ]
}